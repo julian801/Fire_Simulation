{
 "cells": [
  {
   "cell_type": "markdown",
   "metadata": {},
   "source": [
    "https://scipython.com/blog/the-forest-fire-model/"
   ]
  },
  {
   "cell_type": "code",
   "execution_count": 2,
   "metadata": {},
   "outputs": [],
   "source": [
    "import numpy as np\n",
    "import matplotlib.pyplot as plt\n",
    "from matplotlib import animation\n",
    "from matplotlib import colors\n",
    "\n",
    "# Displacements from a cell to its eight nearest neighbours\n",
    "neighbourhood = ((-1,-1), (-1,0), (-1,1), (0,-1), (0, 1), (1,-1), (1,0), (1,1))\n",
    "EMPTY, TREE, FIRE = 0, 1, 2\n",
    "# Colours for visualization: brown for EMPTY, dark green for TREE and orange\n",
    "# for FIRE. Note that for the colormap to work, this list and the bounds list\n",
    "# must be one larger than the number of different values in the array.\n",
    "colors_list = [(0.2,0,0), (0,0.5,0), (1,0,0), 'orange']\n",
    "cmap = colors.ListedColormap(colors_list)\n",
    "bounds = [0,1,2,3]\n",
    "norm = colors.BoundaryNorm(bounds, cmap.N)\n",
    "\n",
    "def iterate(X):\n",
    "    \"\"\"Iterate the forest according to the forest-fire rules.\"\"\"\n",
    "\n",
    "    # The boundary of the forest is always empty, so only consider cells\n",
    "    # indexed from 1 to nx-2, 1 to ny-2\n",
    "    X1 = np.zeros((ny, nx))\n",
    "    for ix in range(1,nx-1):\n",
    "        for iy in range(1,ny-1):\n",
    "            if X[iy,ix] == EMPTY and np.random.random() <= p:\n",
    "                X1[iy,ix] = TREE\n",
    "            if X[iy,ix] == TREE:\n",
    "                X1[iy,ix] = TREE\n",
    "                for dx,dy in neighbourhood:\n",
    "                    if X[iy+dy,ix+dx] == FIRE:\n",
    "                        X1[iy,ix] = FIRE\n",
    "                        break\n",
    "                else:\n",
    "                    if np.random.random() <= f:\n",
    "                        X1[iy,ix] = FIRE\n",
    "    return X1\n",
    "\n",
    "# The initial fraction of the forest occupied by trees.\n",
    "forest_fraction = 0.2\n",
    "# Probability of new tree growth per empty cell, and of lightning strike.\n",
    "p, f = 0.05, 0.001\n",
    "# Forest size (number of cells in x and y directions).\n",
    "nx, ny = 100, 100\n",
    "# Initialize the forest grid.\n",
    "X  = np.zeros((ny, nx))\n",
    "X[1:ny-1, 1:nx-1] = np.random.randint(0, 2, size=(ny-2, nx-2))\n",
    "X[1:ny-1, 1:nx-1] = np.random.random(size=(ny-2, nx-2)) < forest_fraction\n",
    "\n",
    "fig = plt.figure(figsize=(25/3, 6.25))\n",
    "ax = fig.add_subplot(111)\n",
    "ax.set_axis_off()\n",
    "im = ax.imshow(X, cmap=cmap, norm=norm)#, interpolation='nearest')\n",
    "\n",
    "# The animation function: called to produce a frame for each generation.\n",
    "def animate(i):\n",
    "    im.set_data(animate.X)\n",
    "    animate.X = iterate(animate.X)\n",
    "# Bind our grid to the identifier X in the animate function's namespace.\n",
    "animate.X = X\n",
    "\n",
    "# Interval between frames (ms).\n",
    "interval = 100\n",
    "anim = animation.FuncAnimation(fig, animate, interval=interval)\n",
    "%matplotlib inline\n",
    "plt.show()"
   ]
  },
  {
   "cell_type": "code",
   "execution_count": 4,
   "metadata": {},
   "outputs": [
    {
     "name": "stdout",
     "output_type": "stream",
     "text": [
      "Using matplotlib backend: TkAgg\n"
     ]
    }
   ],
   "source": [
    "%matplotlib inline\n",
    "plt.show()"
   ]
  },
  {
   "cell_type": "code",
   "execution_count": null,
   "metadata": {},
   "outputs": [],
   "source": []
  }
 ],
 "metadata": {
  "kernelspec": {
   "display_name": "Python 3",
   "language": "python",
   "name": "python3"
  },
  "language_info": {
   "codemirror_mode": {
    "name": "ipython",
    "version": 3
   },
   "file_extension": ".py",
   "mimetype": "text/x-python",
   "name": "python",
   "nbconvert_exporter": "python",
   "pygments_lexer": "ipython3",
   "version": "3.6.6"
  }
 },
 "nbformat": 4,
 "nbformat_minor": 2
}
