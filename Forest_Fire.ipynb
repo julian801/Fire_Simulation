{
 "cells": [
  {
   "cell_type": "markdown",
   "metadata": {},
   "source": [
    "Forest fire notebook\n",
    "https://github.com/projectmesa/mesa/blob/master/examples/forest_fire/Forest%20Fire%20Model.ipynb\n",
    "\n",
    "Visualization\n",
    "file:///Users/julianchan/Desktop/Materials-datascience/data_visualization/drawing_maps/README.html\n",
    "\n",
    "a. Folium\n",
    "https://python-visualization.github.io/folium/\n",
    "https://pypi.org/project/folium/\n",
    "b. Geo Pandas\n",
    "http://geopandas.org/mapping.html#choropleth-maps\n"
   ]
  },
  {
   "cell_type": "markdown",
   "metadata": {},
   "source": [
    "1. Explain the model\n",
    "2. Vary the parameters of the parameters- ([activation], duration of burning, [states] (on fire),[density], distribution of trees, wind, altitude, wind, random chance of catching fire)\n",
    "3. Data visualization- Display the model against a map of the region/town and make an animation, heat map of the region - GEO PANDAS or FOLIUM\n",
    "4. Satellite image of Californa of the forest fire"
   ]
  },
  {
   "cell_type": "code",
   "execution_count": 8,
   "metadata": {},
   "outputs": [],
   "source": [
    "import numpy as np\n",
    "import random\n",
    "import matplotlib.pyplot as plt\n",
    "%matplotlib inline\n",
    "\n",
    "from mesa import Model, Agent\n",
    "from mesa.time import RandomActivation\n",
    "from mesa.space import Grid\n",
    "from mesa.datacollection import DataCollector\n",
    "from mesa.batchrunner import BatchRunner"
   ]
  },
  {
   "cell_type": "code",
   "execution_count": 9,
   "metadata": {},
   "outputs": [],
   "source": [
    "class TreeCell(Agent):\n",
    "    '''\n",
    "    A tree cell.\n",
    "    \n",
    "    Attributes:\n",
    "        x, y: Grid coordinates\n",
    "        condition: Can be \"Fine\", \"On Fire\", or \"Burned Out\"\n",
    "        unique_id: (x,y) tuple. \n",
    "    \n",
    "    unique_id isn't strictly necessary here, but it's good practice to give one to each\n",
    "    agent anyway.\n",
    "    '''\n",
    "    def __init__(self, model, pos):\n",
    "        '''\n",
    "        Create a new tree.\n",
    "        Args:\n",
    "            pos: The tree's coordinates on the grid. Used as the unique_id\n",
    "        '''\n",
    "        super().__init__(pos, model)\n",
    "        self.pos = pos\n",
    "        self.unique_id = pos\n",
    "        self.condition = \"Fine\"\n",
    "        \n",
    "    def step(self):\n",
    "        '''\n",
    "        If the tree is on fire, spread it to fine trees nearby.\n",
    "        '''\n",
    "        if self.condition == \"On Fire\":\n",
    "            neighbors = self.model.grid.get_neighbors(self.pos, moore=False)\n",
    "            for neighbor in neighbors:\n",
    "                if neighbor.condition == \"Fine\":\n",
    "                    neighbor.condition = \"On Fire\"\n",
    "            self.condition = \"Burned Out\""
   ]
  },
  {
   "cell_type": "code",
   "execution_count": 12,
   "metadata": {},
   "outputs": [],
   "source": [
    "class ForestFire(Model):\n",
    "    import random\n",
    "    '''\n",
    "    Simple Forest Fire model.\n",
    "    '''\n",
    "    def __init__(self, height, width, density):\n",
    "        '''\n",
    "        Create a new forest fire model.\n",
    "        \n",
    "        Args:\n",
    "            height, width: The size of the grid to model\n",
    "            density: What fraction of grid cells have a tree in them.\n",
    "        '''\n",
    "        # Initialize model parameters\n",
    "        self.height = height\n",
    "        self.width = width\n",
    "        self.density = density\n",
    "        \n",
    "        # Set up model objects\n",
    "        self.schedule = RandomActivation(self)\n",
    "        self.grid = Grid(height, width, torus=False)\n",
    "        self.dc = DataCollector({\"Fine\": lambda m: self.count_type(m, \"Fine\"),\n",
    "                                \"On Fire\": lambda m: self.count_type(m, \"On Fire\"),\n",
    "                                \"Burned Out\": lambda m: self.count_type(m, \"Burned Out\")})\n",
    "        \n",
    "        # Place a tree in each cell with Prob = density\n",
    "        for x in range(self.width):\n",
    "            for y in range(self.height):\n",
    "                #####Fix the error below <------------------------------\n",
    "                if self.random.random() < self.density:\n",
    "                    # Create a tree\n",
    "                    new_tree = TreeCell(self, (x, y))\n",
    "                    # Set all trees in the first column on fire.\n",
    "                    if x == 0:\n",
    "                        new_tree.condition = \"On Fire\"\n",
    "                    self.grid[y][x] = new_tree\n",
    "                    self.schedule.add(new_tree)\n",
    "        self.running = True\n",
    "        \n",
    "    def step(self):\n",
    "        '''\n",
    "        Advance the model by one step.\n",
    "        '''\n",
    "        self.schedule.step()\n",
    "        self.dc.collect(self)\n",
    "        # Halt if no more fire\n",
    "        if self.count_type(self, \"On Fire\") == 0:\n",
    "            self.running = False\n",
    "    \n",
    "    @staticmethod\n",
    "    def count_type(model, tree_condition):\n",
    "        '''\n",
    "        Helper method to count trees in a given condition in a given model.\n",
    "        '''\n",
    "        count = 0\n",
    "        for tree in model.schedule.agents:\n",
    "            if tree.condition == tree_condition:\n",
    "                count += 1\n",
    "        return count"
   ]
  },
  {
   "cell_type": "code",
   "execution_count": null,
   "metadata": {},
   "outputs": [],
   "source": []
  },
  {
   "cell_type": "markdown",
   "metadata": {},
   "source": [
    "## Run the model"
   ]
  },
  {
   "cell_type": "code",
   "execution_count": 13,
   "metadata": {},
   "outputs": [],
   "source": [
    "fire = ForestFire(100, 100, 0.6)"
   ]
  },
  {
   "cell_type": "code",
   "execution_count": null,
   "metadata": {},
   "outputs": [],
   "source": []
  },
  {
   "cell_type": "code",
   "execution_count": 12,
   "metadata": {},
   "outputs": [
    {
     "ename": "NameError",
     "evalue": "name 'fire' is not defined",
     "output_type": "error",
     "traceback": [
      "\u001b[0;31m---------------------------------------------------------------------------\u001b[0m",
      "\u001b[0;31mNameError\u001b[0m                                 Traceback (most recent call last)",
      "\u001b[0;32m<ipython-input-12-a6d4ce6c8d14>\u001b[0m in \u001b[0;36m<module>\u001b[0;34m\u001b[0m\n\u001b[0;32m----> 1\u001b[0;31m \u001b[0mfire\u001b[0m\u001b[0;34m.\u001b[0m\u001b[0mrun_model\u001b[0m\u001b[0;34m(\u001b[0m\u001b[0;34m)\u001b[0m\u001b[0;34m\u001b[0m\u001b[0;34m\u001b[0m\u001b[0m\n\u001b[0m",
      "\u001b[0;31mNameError\u001b[0m: name 'fire' is not defined"
     ]
    }
   ],
   "source": [
    "fire.run_model()"
   ]
  },
  {
   "cell_type": "code",
   "execution_count": null,
   "metadata": {},
   "outputs": [],
   "source": []
  },
  {
   "cell_type": "code",
   "execution_count": null,
   "metadata": {},
   "outputs": [],
   "source": []
  }
 ],
 "metadata": {
  "kernelspec": {
   "display_name": "Python 3",
   "language": "python",
   "name": "python3"
  },
  "language_info": {
   "codemirror_mode": {
    "name": "ipython",
    "version": 3
   },
   "file_extension": ".py",
   "mimetype": "text/x-python",
   "name": "python",
   "nbconvert_exporter": "python",
   "pygments_lexer": "ipython3",
   "version": "3.6.7"
  }
 },
 "nbformat": 4,
 "nbformat_minor": 2
}
